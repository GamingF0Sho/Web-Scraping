{
 "cells": [
  {
   "cell_type": "code",
   "execution_count": 1,
   "metadata": {
    "collapsed": false
   },
   "outputs": [],
   "source": [
    "from bs4 import BeautifulSoup\n",
    "import requests\n",
    "import pandas as pd\n",
    "import re"
   ]
  },
  {
   "cell_type": "code",
   "execution_count": 2,
   "metadata": {
    "collapsed": false
   },
   "outputs": [
    {
     "name": "stdout",
     "output_type": "stream",
     "text": [
      "                                  Company Name  \\\n",
      "0                                SunTrac Solar   \n",
      "1                                    Capital E   \n",
      "2  US Solar Energy Industries Association SEIA   \n",
      "3                              FRONIUS USA LLC   \n",
      "4           Array Technologies Inc aka Wattsun   \n",
      "\n",
      "                                 Company Name# Address  \\\n",
      "0                                SunTrac Solar     NaN   \n",
      "1                                    Capital E     NaN   \n",
      "2  US Solar Energy Industries Association SEIA     NaN   \n",
      "3                              FRONIUS USA LLC     NaN   \n",
      "4           Array Technologies Inc aka Wattsun     NaN   \n",
      "\n",
      "                                    Place       Zip          Sector  \\\n",
      "0                       Golden,, Colorado     80403           Solar   \n",
      "1              Washington, Washington, DC  DC 20003  Services,Solar   \n",
      "2              Washington, Washington, DC     20005           Solar   \n",
      "3  Brighton, Michigan 48116 USA, Michigan       NaN           Solar   \n",
      "4                Albuquerque,, New Mexico     87107           Solar   \n",
      "\n",
      "                                             Product Website Region  \\\n",
      "0            Colorado based solar thermal integrator     NaN    NaN   \n",
      "1  Capital E is a consulting firm which provides ...     NaN    NaN   \n",
      "2  US national trade association of solar energy ...     NaN    NaN   \n",
      "3   Focused on welding machines and solar inverters.     NaN    NaN   \n",
      "4  Manufactures the Wattsun Solar Tracker, a sun-...     NaN    NaN   \n",
      "\n",
      "       Place.1                    1            2 Unnamed: 12  \n",
      "0       Golden                  NaN     Colorado         NaN  \n",
      "1   Washington           Washington           DC         NaN  \n",
      "2   Washington           Washington           DC         NaN  \n",
      "3     Brighton   Michigan 48116 USA     Michigan         NaN  \n",
      "4  Albuquerque                  NaN   New Mexico         NaN  \n"
     ]
    }
   ],
   "source": [
    "# Load csv file downloaded from http://en.openei.org/wiki/List_of_Companies_in_Solar_Sector\n",
    "clist = pd.read_csv(\"solar.csv\")\n",
    "print(clist.head())"
   ]
  },
  {
   "cell_type": "code",
   "execution_count": 3,
   "metadata": {
    "collapsed": false
   },
   "outputs": [
    {
     "name": "stdout",
     "output_type": "stream",
     "text": [
      "['http://en.openei.org/wiki/SunTrac_Solar', 'http://en.openei.org/wiki/Capital_E', 'http://en.openei.org/wiki/US_Solar_Energy_Industries_Association_SEIA', 'http://en.openei.org/wiki/FRONIUS_USA_LLC', 'http://en.openei.org/wiki/Array_Technologies_Inc_aka_Wattsun', 'http://en.openei.org/wiki/Solar_International_Management_Inc', 'http://en.openei.org/wiki/Solarponics', 'http://en.openei.org/wiki/A1_Sun,_Inc.', 'http://en.openei.org/wiki/PetersenDean_Roofing_and_Solar', 'http://en.openei.org/wiki/Alten_Products_Company', 'http://en.openei.org/wiki/AMECO_Solar', 'http://en.openei.org/wiki/Ameco_Solar', 'http://en.openei.org/wiki/Run_on_Sun', 'http://en.openei.org/wiki/3Degrees', 'http://en.openei.org/wiki/JouleBox_Power', 'http://en.openei.org/wiki/Solaris_Technology_Industry,_Inc.', 'http://en.openei.org/wiki/Wave_Energy_-_Efficiency_Solutions', 'http://en.openei.org/wiki/Alternate_Energy_LLC', 'http://en.openei.org/wiki/ALDACOR_INC', 'http://en.openei.org/wiki/Inovus']\n"
     ]
    }
   ],
   "source": [
    "# Create list of URLs to extract data from using the \"Company Name\" column of the clist Dataframe.\n",
    "cname = clist[\"Company Name\"]\n",
    "cname_list = []\n",
    "for c in cname:\n",
    "    string = c.replace(' ','_')\n",
    "    url_st = ''.join([\"http://en.openei.org/wiki/\", string])\n",
    "    cname_list.append(url_st)"
   ]
  },
  {
   "cell_type": "code",
   "execution_count": 4,
   "metadata": {
    "collapsed": false
   },
   "outputs": [],
   "source": [
    "# Create for loop to loop through list of URLs and extract Phone Numbers and Websites and compile the data into a dataframe.\n",
    "structure_df = [{'Name': 'NA',  'Website2': 'NA', 'Phone Number': 'NA'}]\n",
    "df = pd.DataFrame(structure_df)\n",
    "for url in cname_list:\n",
    "    test_df = pd.DataFrame(structure_df)\n",
    "    temp_data = []\n",
    "    temp_list = []\n",
    "    response = requests.get(url)\n",
    "    content = response.content\n",
    "    parser = BeautifulSoup(content, 'html.parser')\n",
    "    body = parser.find_all(\"body\")\n",
    "    th = body[0].find_all(\"th\")\n",
    "    td = body[0].find_all(\"td\")\n",
    "    for p in th:\n",
    "        temp_list.append(p.text)\n",
    "    for p in td:\n",
    "        temp_data.append(p.text)\n",
    "    if temp_data[0] != \" \":\n",
    "        test_df[\"Name\"].loc[0] = temp_data[0]\n",
    "    if temp_data[0] == \" \":\n",
    "        test_df[\"Name\"].loc[0] = temp_data[1]\n",
    "    if \"Website:\" in temp_list:\n",
    "        for row in temp_data:\n",
    "            if re.search(\"www|http\", row):\n",
    "                test_df[\"Website2\"].loc[0] = row\n",
    "    if \"Phone Number:\" in temp_list:\n",
    "        for row in temp_data:\n",
    "            if re.search(\"[0-9][0-9][0-9]\\-[0-9][0-9][0-9][0-9]$|[0-9][0-9][0-9]\\.[0-9][0-9][0-9][0-9]$|[0-9][0-9][0-9][0-9][0-9][0-9][0-9][0-9][0-9]\", row):\n",
    "                test_df[\"Phone Number\"].loc[0] = row\n",
    "    df = pd.concat([df, test_df])"
   ]
  },
  {
   "cell_type": "code",
   "execution_count": 5,
   "metadata": {
    "collapsed": false
   },
   "outputs": [],
   "source": [
    "# Prepare company name columns to join databases.\n",
    "clist[\"Name\"] = clist[\"Company Name\"].str.lower()"
   ]
  },
  {
   "cell_type": "code",
   "execution_count": 6,
   "metadata": {
    "collapsed": true
   },
   "outputs": [],
   "source": [
    "clist_name_index = clist.set_index(\"Name\")"
   ]
  },
  {
   "cell_type": "code",
   "execution_count": 7,
   "metadata": {
    "collapsed": true
   },
   "outputs": [],
   "source": [
    "df[\"Name\"] = df[\"Name\"].str.lower()"
   ]
  },
  {
   "cell_type": "code",
   "execution_count": 8,
   "metadata": {
    "collapsed": true
   },
   "outputs": [],
   "source": [
    "df_name_index = df.set_index(\"Name\")"
   ]
  },
  {
   "cell_type": "code",
   "execution_count": 11,
   "metadata": {
    "collapsed": false
   },
   "outputs": [],
   "source": [
    "# Join database from import with database from extracted data.\n",
    "clean_df_left = clist_name_index.join(df_name_index, how='left')"
   ]
  },
  {
   "cell_type": "code",
   "execution_count": 12,
   "metadata": {
    "collapsed": false
   },
   "outputs": [
    {
     "name": "stdout",
     "output_type": "stream",
     "text": [
      "832\n",
      "                                      Company Name             Company Name#  \\\n",
      "Name                                                                           \n",
      "1 solar inc                            1 Solar Inc               1 Solar Inc   \n",
      "1366 technologies                1366 Technologies         1366 Technologies   \n",
      "1st light energy, inc.      1st Light Energy, Inc.    1st Light Energy, Inc.   \n",
      "21 century solar inc          21 Century Solar Inc      21 Century Solar Inc   \n",
      "21-century silicon, inc.  21-Century Silicon, Inc.  21-Century Silicon, Inc.   \n",
      "\n",
      "                                               Address  \\\n",
      "Name                                                     \n",
      "1 solar inc                                        NaN   \n",
      "1366 technologies                   45 Hartwell Avenue   \n",
      "1st light energy, inc.       3224 McHennry Ave Suite F   \n",
      "21 century solar inc                               NaN   \n",
      "21-century silicon, inc.  1681 Firman Drive, Suite 103   \n",
      "\n",
      "                                                   Place         Zip  \\\n",
      "Name                                                                   \n",
      "1 solar inc                                   California         NaN   \n",
      "1366 technologies         North Lexington, Massachusetts        2421   \n",
      "1st light energy, inc.               Modesto, California      953650   \n",
      "21 century solar inc                      Garland, Texas       75042   \n",
      "21-century silicon, inc.               Richardson, Texas  75081-1881   \n",
      "\n",
      "                                          Sector  \\\n",
      "Name                                               \n",
      "1 solar inc               Renewable Energy,Solar   \n",
      "1366 technologies                          Solar   \n",
      "1st light energy, inc.                     Solar   \n",
      "21 century solar inc                       Solar   \n",
      "21-century silicon, inc.                   Solar   \n",
      "\n",
      "                                                                    Product  \\\n",
      "Name                                                                          \n",
      "1 solar inc               Early-stage startup from Sandia National Labor...   \n",
      "1366 technologies         Developer of technologies for enhancing PV eff...   \n",
      "1st light energy, inc.                                                  NaN   \n",
      "21 century solar inc      Privately-owned Garland-based manufacturer of ...   \n",
      "21-century silicon, inc.               Solar Grade Silicon >99.9999% purity   \n",
      "\n",
      "                                                    Website            Region  \\\n",
      "Name                                                                            \n",
      "1 solar inc                                             NaN               NaN   \n",
      "1366 technologies                  http://www.1366tech.com/               NaN   \n",
      "1st light energy, inc.            http://1stlightenergy.com  Southern CA Area   \n",
      "21 century solar inc                                    NaN               NaN   \n",
      "21-century silicon, inc.  http://www.21-CenturySilicon.com/        Texas Area   \n",
      "\n",
      "                                  Place.1               1    2 Unnamed: 12  \\\n",
      "Name                                                                         \n",
      "1 solar inc                    California             NaN  NaN         NaN   \n",
      "1366 technologies         North Lexington   Massachusetts  NaN         NaN   \n",
      "1st light energy, inc.            Modesto      California  NaN         NaN   \n",
      "21 century solar inc              Garland           Texas  NaN         NaN   \n",
      "21-century silicon, inc.       Richardson           Texas  NaN         NaN   \n",
      "\n",
      "                          Phone Number                     Website2  \n",
      "Name                                                                 \n",
      "1 solar inc                        NaN                          NaN  \n",
      "1366 technologies                   NA           www.1366tech.com/   \n",
      "1st light energy, inc.    209-824-5500                           NA  \n",
      "21 century solar inc               NaN                          NaN  \n",
      "21-century silicon, inc.  972-591-0713  www.21-CenturySilicon.com/   \n"
     ]
    }
   ],
   "source": [
    "print(len(clean_df_left))\n",
    "print(clean_df_left1.head())"
   ]
  },
  {
   "cell_type": "code",
   "execution_count": 14,
   "metadata": {
    "collapsed": true
   },
   "outputs": [],
   "source": [
    "# Export to csv file\n",
    "clean_df_left.to_csv(\"cleansolar4.csv\")"
   ]
  }
 ],
 "metadata": {
  "anaconda-cloud": {},
  "kernelspec": {
   "display_name": "Python [default]",
   "language": "python",
   "name": "python3"
  },
  "language_info": {
   "codemirror_mode": {
    "name": "ipython",
    "version": 3
   },
   "file_extension": ".py",
   "mimetype": "text/x-python",
   "name": "python",
   "nbconvert_exporter": "python",
   "pygments_lexer": "ipython3",
   "version": "3.5.2"
  }
 },
 "nbformat": 4,
 "nbformat_minor": 1
}
