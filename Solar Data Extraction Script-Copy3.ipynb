{
 "cells": [
  {
   "cell_type": "code",
   "execution_count": 20,
   "metadata": {
    "collapsed": false
   },
   "outputs": [],
   "source": [
    "from bs4 import BeautifulSoup\n",
    "import requests\n",
    "import pandas as pd\n",
    "import re"
   ]
  },
  {
   "cell_type": "code",
   "execution_count": 21,
   "metadata": {
    "collapsed": false
   },
   "outputs": [
    {
     "name": "stdout",
     "output_type": "stream",
     "text": [
      "                                  Company Name  \\\n",
      "0                                SunTrac Solar   \n",
      "1                                    Capital E   \n",
      "2  US Solar Energy Industries Association SEIA   \n",
      "3                              FRONIUS USA LLC   \n",
      "4           Array Technologies Inc aka Wattsun   \n",
      "\n",
      "                                 Company Name# Address  \\\n",
      "0                                SunTrac Solar     NaN   \n",
      "1                                    Capital E     NaN   \n",
      "2  US Solar Energy Industries Association SEIA     NaN   \n",
      "3                              FRONIUS USA LLC     NaN   \n",
      "4           Array Technologies Inc aka Wattsun     NaN   \n",
      "\n",
      "                                    Place       Zip          Sector  \\\n",
      "0                       Golden,, Colorado     80403           Solar   \n",
      "1              Washington, Washington, DC  DC 20003  Services,Solar   \n",
      "2              Washington, Washington, DC     20005           Solar   \n",
      "3  Brighton, Michigan 48116 USA, Michigan       NaN           Solar   \n",
      "4                Albuquerque,, New Mexico     87107           Solar   \n",
      "\n",
      "                                             Product Website Region  \\\n",
      "0            Colorado based solar thermal integrator     NaN    NaN   \n",
      "1  Capital E is a consulting firm which provides ...     NaN    NaN   \n",
      "2  US national trade association of solar energy ...     NaN    NaN   \n",
      "3   Focused on welding machines and solar inverters.     NaN    NaN   \n",
      "4  Manufactures the Wattsun Solar Tracker, a sun-...     NaN    NaN   \n",
      "\n",
      "       Place.1                    1            2 Unnamed: 12  \n",
      "0       Golden                  NaN     Colorado         NaN  \n",
      "1   Washington           Washington           DC         NaN  \n",
      "2   Washington           Washington           DC         NaN  \n",
      "3     Brighton   Michigan 48116 USA     Michigan         NaN  \n",
      "4  Albuquerque                  NaN   New Mexico         NaN  \n"
     ]
    }
   ],
   "source": [
    "clist = pd.read_csv(\"solar.csv\")\n",
    "print(clist.head())"
   ]
  },
  {
   "cell_type": "code",
   "execution_count": 22,
   "metadata": {
    "collapsed": false
   },
   "outputs": [
    {
     "name": "stdout",
     "output_type": "stream",
     "text": [
      "['http://en.openei.org/wiki/SunTrac_Solar', 'http://en.openei.org/wiki/Capital_E', 'http://en.openei.org/wiki/US_Solar_Energy_Industries_Association_SEIA', 'http://en.openei.org/wiki/FRONIUS_USA_LLC', 'http://en.openei.org/wiki/Array_Technologies_Inc_aka_Wattsun', 'http://en.openei.org/wiki/Solar_International_Management_Inc', 'http://en.openei.org/wiki/Solarponics', 'http://en.openei.org/wiki/A1_Sun,_Inc.', 'http://en.openei.org/wiki/PetersenDean_Roofing_and_Solar', 'http://en.openei.org/wiki/Alten_Products_Company', 'http://en.openei.org/wiki/AMECO_Solar', 'http://en.openei.org/wiki/Ameco_Solar', 'http://en.openei.org/wiki/Run_on_Sun', 'http://en.openei.org/wiki/3Degrees', 'http://en.openei.org/wiki/JouleBox_Power', 'http://en.openei.org/wiki/Solaris_Technology_Industry,_Inc.', 'http://en.openei.org/wiki/Wave_Energy_-_Efficiency_Solutions', 'http://en.openei.org/wiki/Alternate_Energy_LLC', 'http://en.openei.org/wiki/ALDACOR_INC', 'http://en.openei.org/wiki/Inovus']\n"
     ]
    }
   ],
   "source": [
    "cname = clist[\"Company Name\"]\n",
    "cname_list = []\n",
    "for c in cname:\n",
    "    string = c.replace(' ','_')\n",
    "    url_st = ''.join([\"http://en.openei.org/wiki/\", string])\n",
    "    cname_list.append(url_st)\n",
    "test_list = (cname_list[0:20])\n",
    "print(test_list)"
   ]
  },
  {
   "cell_type": "code",
   "execution_count": 23,
   "metadata": {
    "collapsed": false
   },
   "outputs": [],
   "source": [
    "scrape_list = []\n",
    "scrape_data = []\n",
    "structure_df = [{'Name': 'NA',  'Website2': 'NA', 'Phone Number': 'NA'}]\n",
    "df = pd.DataFrame(structure_df)\n",
    "for url in cname_list:\n",
    "    test_df = pd.DataFrame(structure_df)\n",
    "    temp_data = []\n",
    "    temp_list = []\n",
    "    response = requests.get(url)\n",
    "    content = response.content\n",
    "    parser = BeautifulSoup(content, 'html.parser')\n",
    "    body = parser.find_all(\"body\")\n",
    "    th = body[0].find_all(\"th\")\n",
    "    td = body[0].find_all(\"td\")\n",
    "    for p in th:\n",
    "        temp_list.append(p.text)\n",
    "    for p in td:\n",
    "        temp_data.append(p.text)\n",
    "    if temp_data[0] != \" \":\n",
    "        test_df[\"Name\"].loc[0] = temp_data[0]\n",
    "    if temp_data[0] == \" \":\n",
    "        test_df[\"Name\"].loc[0] = temp_data[1]\n",
    "    if \"Website:\" in temp_list:\n",
    "        for row in temp_data:\n",
    "            if re.search(\"www|http\", row):\n",
    "                test_df[\"Website2\"].loc[0] = row\n",
    "    if \"Phone Number:\" in temp_list:\n",
    "        for row in temp_data:\n",
    "            if re.search(\"[0-9][0-9][0-9]\\-[0-9][0-9][0-9][0-9]$|[0-9][0-9][0-9]\\.[0-9][0-9][0-9][0-9]$|[0-9][0-9][0-9][0-9][0-9][0-9][0-9][0-9][0-9]\", row):\n",
    "                test_df[\"Phone Number\"].loc[0] = row\n",
    "    df = pd.concat([df, test_df])"
   ]
  },
  {
   "cell_type": "code",
   "execution_count": 24,
   "metadata": {
    "collapsed": false
   },
   "outputs": [],
   "source": [
    "clist[\"Name\"] = clist[\"Company Name\"]"
   ]
  },
  {
   "cell_type": "code",
   "execution_count": 25,
   "metadata": {
    "collapsed": true
   },
   "outputs": [],
   "source": [
    "clist_name_index = clist.set_index(\"Name\")"
   ]
  },
  {
   "cell_type": "code",
   "execution_count": 32,
   "metadata": {
    "collapsed": true
   },
   "outputs": [],
   "source": [
    "df_name_index = df.set_index(\"Name\")"
   ]
  },
  {
   "cell_type": "code",
   "execution_count": 31,
   "metadata": {
    "collapsed": false
   },
   "outputs": [
    {
     "name": "stdout",
     "output_type": "stream",
     "text": [
      "<class 'pandas.core.frame.DataFrame'>\n",
      "RangeIndex: 822 entries, 0 to 821\n",
      "Data columns (total 14 columns):\n",
      "Company Name     822 non-null object\n",
      "Company Name#    822 non-null object\n",
      "Address          320 non-null object\n",
      "Place            796 non-null object\n",
      "Zip              709 non-null object\n",
      "Sector           822 non-null object\n",
      "Product          745 non-null object\n",
      "Website          339 non-null object\n",
      "Region           180 non-null object\n",
      "Place.1          796 non-null object\n",
      "1                725 non-null object\n",
      "2                33 non-null object\n",
      "Unnamed: 12      1 non-null object\n",
      "Name             822 non-null object\n",
      "dtypes: object(14)\n",
      "memory usage: 90.0+ KB\n",
      "None\n"
     ]
    }
   ],
   "source": [
    "print(clist.info())"
   ]
  },
  {
   "cell_type": "code",
   "execution_count": 26,
   "metadata": {
    "collapsed": false
   },
   "outputs": [
    {
     "name": "stdout",
     "output_type": "stream",
     "text": [
      "<class 'pandas.core.frame.DataFrame'>\n",
      "Int64Index: 823 entries, 0 to 0\n",
      "Data columns (total 3 columns):\n",
      "Name            823 non-null object\n",
      "Phone Number    823 non-null object\n",
      "Website2        823 non-null object\n",
      "dtypes: object(3)\n",
      "memory usage: 25.7+ KB\n",
      "None\n"
     ]
    }
   ],
   "source": [
    "print(df.info())"
   ]
  },
  {
   "cell_type": "code",
   "execution_count": 28,
   "metadata": {
    "collapsed": false
   },
   "outputs": [
    {
     "name": "stdout",
     "output_type": "stream",
     "text": [
      "<class 'pandas.core.frame.DataFrame'>\n",
      "Index: 822 entries, SunTrac Solar to Tahoe Water Systems\n",
      "Data columns (total 13 columns):\n",
      "Company Name     822 non-null object\n",
      "Company Name#    822 non-null object\n",
      "Address          320 non-null object\n",
      "Place            796 non-null object\n",
      "Zip              709 non-null object\n",
      "Sector           822 non-null object\n",
      "Product          745 non-null object\n",
      "Website          339 non-null object\n",
      "Region           180 non-null object\n",
      "Place.1          796 non-null object\n",
      "1                725 non-null object\n",
      "2                33 non-null object\n",
      "Unnamed: 12      1 non-null object\n",
      "dtypes: object(13)\n",
      "memory usage: 89.9+ KB\n",
      "None\n"
     ]
    }
   ],
   "source": [
    "print(clist_name_index.info())"
   ]
  },
  {
   "cell_type": "code",
   "execution_count": 33,
   "metadata": {
    "collapsed": false
   },
   "outputs": [],
   "source": [
    "clean_df_left = df_name_index.join(clist_name_index, how='left')"
   ]
  },
  {
   "cell_type": "code",
   "execution_count": 35,
   "metadata": {
    "collapsed": false
   },
   "outputs": [
    {
     "name": "stdout",
     "output_type": "stream",
     "text": [
      "823\n",
      "                          Phone Number                           Website2  \\\n",
      "Name                                                                        \n",
      "1-Solar Inc                         NA                                 NA   \n",
      "1366 Technologies                   NA                 www.1366tech.com/    \n",
      "1st Light Energy, Inc.    209-824-5500                                 NA   \n",
      "200px                               NA  http://facebook.com/jouleboxpower   \n",
      "200px                   1-877-837-6527               www.intelisolar.com    \n",
      "\n",
      "                                  Company Name           Company Name#  \\\n",
      "Name                                                                     \n",
      "1-Solar Inc                                NaN                     NaN   \n",
      "1366 Technologies            1366 Technologies       1366 Technologies   \n",
      "1st Light Energy, Inc.  1st Light Energy, Inc.  1st Light Energy, Inc.   \n",
      "200px                                      NaN                     NaN   \n",
      "200px                                      NaN                     NaN   \n",
      "\n",
      "                                          Address  \\\n",
      "Name                                                \n",
      "1-Solar Inc                                   NaN   \n",
      "1366 Technologies              45 Hartwell Avenue   \n",
      "1st Light Energy, Inc.  3224 McHennry Ave Suite F   \n",
      "200px                                         NaN   \n",
      "200px                                         NaN   \n",
      "\n",
      "                                                 Place     Zip Sector  \\\n",
      "Name                                                                    \n",
      "1-Solar Inc                                        NaN     NaN    NaN   \n",
      "1366 Technologies       North Lexington, Massachusetts    2421  Solar   \n",
      "1st Light Energy, Inc.             Modesto, California  953650  Solar   \n",
      "200px                                              NaN     NaN    NaN   \n",
      "200px                                              NaN     NaN    NaN   \n",
      "\n",
      "                                                                  Product  \\\n",
      "Name                                                                        \n",
      "1-Solar Inc                                                           NaN   \n",
      "1366 Technologies       Developer of technologies for enhancing PV eff...   \n",
      "1st Light Energy, Inc.                                                NaN   \n",
      "200px                                                                 NaN   \n",
      "200px                                                                 NaN   \n",
      "\n",
      "                                          Website            Region  \\\n",
      "Name                                                                  \n",
      "1-Solar Inc                                   NaN               NaN   \n",
      "1366 Technologies        http://www.1366tech.com/               NaN   \n",
      "1st Light Energy, Inc.  http://1stlightenergy.com  Southern CA Area   \n",
      "200px                                         NaN               NaN   \n",
      "200px                                         NaN               NaN   \n",
      "\n",
      "                                Place.1               1    2 Unnamed: 12  \n",
      "Name                                                                      \n",
      "1-Solar Inc                         NaN             NaN  NaN         NaN  \n",
      "1366 Technologies       North Lexington   Massachusetts  NaN         NaN  \n",
      "1st Light Energy, Inc.          Modesto      California  NaN         NaN  \n",
      "200px                               NaN             NaN  NaN         NaN  \n",
      "200px                               NaN             NaN  NaN         NaN  \n"
     ]
    }
   ],
   "source": [
    "print(len(clean_df_left))\n",
    "print(clean_df_left.head())"
   ]
  },
  {
   "cell_type": "code",
   "execution_count": null,
   "metadata": {
    "collapsed": true
   },
   "outputs": [],
   "source": [
    "clean_df_left.to_csv(\"cleansolar3.csv\")"
   ]
  }
 ],
 "metadata": {
  "anaconda-cloud": {},
  "kernelspec": {
   "display_name": "Python [default]",
   "language": "python",
   "name": "python3"
  },
  "language_info": {
   "codemirror_mode": {
    "name": "ipython",
    "version": 3
   },
   "file_extension": ".py",
   "mimetype": "text/x-python",
   "name": "python",
   "nbconvert_exporter": "python",
   "pygments_lexer": "ipython3",
   "version": "3.5.2"
  }
 },
 "nbformat": 4,
 "nbformat_minor": 1
}
