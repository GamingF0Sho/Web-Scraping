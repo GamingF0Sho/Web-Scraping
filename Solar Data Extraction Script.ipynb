{
 "cells": [
  {
   "cell_type": "code",
   "execution_count": 1,
   "metadata": {
    "collapsed": false
   },
   "outputs": [],
   "source": [
    "from bs4 import BeautifulSoup\n",
    "import requests"
   ]
  },
  {
   "cell_type": "code",
   "execution_count": 2,
   "metadata": {
    "collapsed": true
   },
   "outputs": [],
   "source": [
    "response = requests.get(\"http://en.openei.org/wiki/AEE_Solar\")\n",
    "content = response.content\n",
    "parser = BeautifulSoup(content, 'html.parser')"
   ]
  },
  {
   "cell_type": "code",
   "execution_count": 3,
   "metadata": {
    "collapsed": false
   },
   "outputs": [],
   "source": [
    "body = parser.find_all(\"body\")"
   ]
  },
  {
   "cell_type": "code",
   "execution_count": 15,
   "metadata": {
    "collapsed": false
   },
   "outputs": [
    {
     "name": "stdout",
     "output_type": "stream",
     "text": [
      "Name:\n",
      "Address:\n",
      "Place:\n",
      "Zip:\n",
      "Region:\n",
      "Sector:\n",
      "Year Founded:\n",
      "Phone Number:\n",
      "Website:\n",
      "Coordinates:\n",
      "References:\n",
      " \n",
      "AEE Solar\n",
      "1155 Redway Drive\n",
      "PO Box 339\n",
      "Redway, California\n",
      "95560\n",
      "Bay Area\n",
      "Solar\n",
      "1979\n",
      "800-777-6609\n",
      "www.aeesolar.com/ \n",
      "40.117203°, -123.820558° Show Map\n",
      "AEE Solar homepage[1]\n"
     ]
    }
   ],
   "source": [
    "th = body[0].find_all(\"th\")\n",
    "for p in th:\n",
    "    print(p.text)\n",
    "\n",
    "td = body[0].find_all(\"td\")\n",
    "for p in td:\n",
    "    print(p.text)"
   ]
  },
  {
   "cell_type": "code",
   "execution_count": 14,
   "metadata": {
    "collapsed": false
   },
   "outputs": [
    {
     "name": "stdout",
     "output_type": "stream",
     "text": [
      "Name:\n",
      "Address:\n",
      "Place:\n",
      "Zip:\n",
      "Region:\n",
      "Sector:\n",
      "Year Founded:\n",
      "Phone Number:\n",
      "Website:\n",
      "Coordinates:\n",
      "References:\n"
     ]
    }
   ],
   "source": []
  },
  {
   "cell_type": "code",
   "execution_count": 32,
   "metadata": {
    "collapsed": false
   },
   "outputs": [
    {
     "name": "stdout",
     "output_type": "stream",
     "text": [
      "Brazil 135 Ultramarathon\n"
     ]
    }
   ],
   "source": [
    "em = body[0].find_all(\"em\")\n",
    "print(em[0].text)"
   ]
  },
  {
   "cell_type": "code",
   "execution_count": 25,
   "metadata": {
    "collapsed": false
   },
   "outputs": [
    {
     "name": "stdout",
     "output_type": "stream",
     "text": [
      "<a class=\"list-group-item calendar\" href=\"/event/brazil-135-ultramarathon\"><h4>Brazil 135 Ultramarathon</h4>\n",
      "<em class=\"left-buffer\">Brazil 135 Ultramarathon</em>\n",
      "<dl class=\"calendar_race\"></dl>\n",
      "<dt>\n",
      "<i class=\"icon-uniF073 fg\"></i>\n",
      "</dt>\n",
      "<dd><span>January 12, 2017</span> <span class=\"label label-default\">Race day in 4 days</span></dd>\n",
      "<dt>\n",
      "<i class=\"icon-uniF0AC fg\"></i>\n",
      "</dt>\n",
      "<dd>Brazil / São João da Boa Vista</dd>\n",
      "<dt><i class=\"icon-uniF111 fg ultras\"></i></dt>\n",
      "<dd>Ultramarathon  - 135 miles</dd>\n",
      "<dt>\n",
      "<i class=\"icon-uniF02C fg\"></i>\n",
      "</dt>\n",
      "<dd><span class=\"label label-default\">UTMB Qualifier</span> <span class=\"label label-default\">Western States Qualifier</span></dd>\n",
      "</a>\n"
     ]
    }
   ],
   "source": [
    "lgic_class = parser.find_all(\"a\", class_=\"list-group-item calendar\")\n",
    "print(lgic_class[0])"
   ]
  },
  {
   "cell_type": "code",
   "execution_count": 27,
   "metadata": {
    "collapsed": false
   },
   "outputs": [
    {
     "name": "stdout",
     "output_type": "stream",
     "text": [
      "January 12, 2017\n"
     ]
    }
   ],
   "source": [
    "span = lgic_class[0].find_all(\"span\")\n",
    "print(span[0].text)"
   ]
  },
  {
   "cell_type": "code",
   "execution_count": 31,
   "metadata": {
    "collapsed": false
   },
   "outputs": [
    {
     "name": "stdout",
     "output_type": "stream",
     "text": [
      "January 12, 2017 Race day in 4 days\n",
      "Brazil / São João da Boa Vista\n",
      "Ultramarathon  - 135 miles\n",
      "UTMB Qualifier Western States Qualifier\n"
     ]
    }
   ],
   "source": [
    "dd2 = lgic_class[0].find_all(\"dd\")\n",
    "print(dd2[0].text)\n",
    "print(dd2[1].text)\n",
    "print(dd2[2].text)\n",
    "print(dd2[3].text)"
   ]
  }
 ],
 "metadata": {
  "anaconda-cloud": {},
  "kernelspec": {
   "display_name": "Python [default]",
   "language": "python",
   "name": "python3"
  },
  "language_info": {
   "codemirror_mode": {
    "name": "ipython",
    "version": 3
   },
   "file_extension": ".py",
   "mimetype": "text/x-python",
   "name": "python",
   "nbconvert_exporter": "python",
   "pygments_lexer": "ipython3",
   "version": "3.5.2"
  }
 },
 "nbformat": 4,
 "nbformat_minor": 1
}
